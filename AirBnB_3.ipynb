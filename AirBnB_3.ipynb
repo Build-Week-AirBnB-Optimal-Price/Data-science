{
 "cells": [
  {
   "cell_type": "markdown",
   "metadata": {},
   "source": [
    "## Example"
   ]
  },
  {
   "cell_type": "code",
   "execution_count": 1,
   "metadata": {},
   "outputs": [
    {
     "name": "stderr",
     "output_type": "stream",
     "text": [
      "[nltk_data] Downloading package vader_lexicon to\n",
      "[nltk_data]     C:\\Users\\anika\\AppData\\Roaming\\nltk_data...\n",
      "[nltk_data]   Package vader_lexicon is already up-to-date!\n"
     ]
    }
   ],
   "source": [
    "import nltk\n",
    "nltk.download('vader_lexicon')\n",
    "from nltk.sentiment.vader import SentimentIntensityAnalyzer"
   ]
  },
  {
   "cell_type": "code",
   "execution_count": 2,
   "metadata": {},
   "outputs": [],
   "source": [
    "sid = SentimentIntensityAnalyzer()"
   ]
  },
  {
   "cell_type": "code",
   "execution_count": 3,
   "metadata": {},
   "outputs": [],
   "source": [
    "message_text = '''Like you, I am getting very frustrated with this process. I am genuinely trying to be as reasonable as possible. I am not trying to \"hold up\" the deal at the last minute. I'm afraid that I am being asked to take a fairly large leap of faith after this company (I don't mean the two of you -- I mean Enron) has screwed me and the people who work for me.'''"
   ]
  },
  {
   "cell_type": "code",
   "execution_count": 4,
   "metadata": {},
   "outputs": [
    {
     "data": {
      "text/plain": [
       "{'neg': 0.093, 'neu': 0.836, 'pos': 0.071, 'compound': -0.3804}"
      ]
     },
     "execution_count": 4,
     "metadata": {},
     "output_type": "execute_result"
    }
   ],
   "source": [
    "scores = sid.polarity_scores(message_text)\n",
    "scores"
   ]
  },
  {
   "cell_type": "markdown",
   "metadata": {},
   "source": [
    "## Now let's try it on real data"
   ]
  },
  {
   "cell_type": "code",
   "execution_count": 5,
   "metadata": {},
   "outputs": [],
   "source": [
    "# Classics\n",
    "import pandas as pd\n",
    "import seaborn as sns\n",
    "import matplotlib.pyplot as plt\n",
    "\n",
    "# Base\n",
    "from collections import Counter\n",
    "import re\n",
    "import os\n",
    "\n",
    "# Plotting\n",
    "import squarify\n",
    "import matplotlib.pyplot as plt\n",
    "import seaborn as sns\n",
    "\n",
    "# NLP Libraries\n",
    "import spacy\n",
    "from spacy.tokenizer import Tokenizer\n",
    "\n",
    "nlp = spacy.load(\"en_core_web_lg\")\n",
    "tokenizer = Tokenizer(nlp.vocab)\n",
    "\n",
    "# Vector Representations\n",
    "from sklearn.feature_extraction.text import CountVectorizer, TfidfVectorizer\n",
    "from sklearn.metrics.pairwise import cosine_similarity\n",
    "from sklearn.neighbors import NearestNeighbors\n",
    "from sklearn.decomposition import PCA"
   ]
  },
  {
   "cell_type": "code",
   "execution_count": 6,
   "metadata": {},
   "outputs": [
    {
     "data": {
      "text/html": [
       "<div>\n",
       "<style scoped>\n",
       "    .dataframe tbody tr th:only-of-type {\n",
       "        vertical-align: middle;\n",
       "    }\n",
       "\n",
       "    .dataframe tbody tr th {\n",
       "        vertical-align: top;\n",
       "    }\n",
       "\n",
       "    .dataframe thead th {\n",
       "        text-align: right;\n",
       "    }\n",
       "</style>\n",
       "<table border=\"1\" class=\"dataframe\">\n",
       "  <thead>\n",
       "    <tr style=\"text-align: right;\">\n",
       "      <th></th>\n",
       "      <th>host_since</th>\n",
       "      <th>zipcode</th>\n",
       "      <th>room_type</th>\n",
       "      <th>maximum_nights</th>\n",
       "      <th>minimum_nights</th>\n",
       "      <th>extra_people</th>\n",
       "      <th>accommodates</th>\n",
       "      <th>neighbourhood</th>\n",
       "      <th>beds</th>\n",
       "      <th>property_type</th>\n",
       "      <th>cancellation_policy</th>\n",
       "      <th>guests_included</th>\n",
       "      <th>bedrooms</th>\n",
       "      <th>bathrooms</th>\n",
       "      <th>number_of_reviews</th>\n",
       "      <th>description</th>\n",
       "      <th>price</th>\n",
       "      <th>price_category</th>\n",
       "    </tr>\n",
       "  </thead>\n",
       "  <tbody>\n",
       "    <tr>\n",
       "      <td>0</td>\n",
       "      <td>2008-08-18</td>\n",
       "      <td>10119</td>\n",
       "      <td>Entire home/apt</td>\n",
       "      <td>1125</td>\n",
       "      <td>4</td>\n",
       "      <td>$28.00</td>\n",
       "      <td>3</td>\n",
       "      <td>Mitte</td>\n",
       "      <td>2.0</td>\n",
       "      <td>Guesthouse</td>\n",
       "      <td>strict_14_with_grace_period</td>\n",
       "      <td>1</td>\n",
       "      <td>1.0</td>\n",
       "      <td>1.0</td>\n",
       "      <td>118</td>\n",
       "      <td>Great location!  30 of 75 sq meters. This wood...</td>\n",
       "      <td>6.0</td>\n",
       "      <td>super cheap</td>\n",
       "    </tr>\n",
       "    <tr>\n",
       "      <td>1</td>\n",
       "      <td>2008-10-19</td>\n",
       "      <td>10405</td>\n",
       "      <td>Entire home/apt</td>\n",
       "      <td>1125</td>\n",
       "      <td>62</td>\n",
       "      <td>$20.00</td>\n",
       "      <td>4</td>\n",
       "      <td>Prenzlauer Berg</td>\n",
       "      <td>2.0</td>\n",
       "      <td>Apartment</td>\n",
       "      <td>strict_14_with_grace_period</td>\n",
       "      <td>2</td>\n",
       "      <td>1.0</td>\n",
       "      <td>1.0</td>\n",
       "      <td>143</td>\n",
       "      <td>This beautiful first floor apartment  is situa...</td>\n",
       "      <td>9.0</td>\n",
       "      <td>super cheap</td>\n",
       "    </tr>\n",
       "    <tr>\n",
       "      <td>2</td>\n",
       "      <td>2009-08-25</td>\n",
       "      <td>10405</td>\n",
       "      <td>Entire home/apt</td>\n",
       "      <td>14</td>\n",
       "      <td>6</td>\n",
       "      <td>$10.00</td>\n",
       "      <td>7</td>\n",
       "      <td>Prenzlauer Berg</td>\n",
       "      <td>7.0</td>\n",
       "      <td>Apartment</td>\n",
       "      <td>strict_14_with_grace_period</td>\n",
       "      <td>5</td>\n",
       "      <td>4.0</td>\n",
       "      <td>2.5</td>\n",
       "      <td>6</td>\n",
       "      <td>4 bedroom with very large windows and outstand...</td>\n",
       "      <td>18.0</td>\n",
       "      <td>cheap</td>\n",
       "    </tr>\n",
       "    <tr>\n",
       "      <td>3</td>\n",
       "      <td>2009-11-18</td>\n",
       "      <td>10437</td>\n",
       "      <td>Entire home/apt</td>\n",
       "      <td>1125</td>\n",
       "      <td>90</td>\n",
       "      <td>$0.00</td>\n",
       "      <td>2</td>\n",
       "      <td>Prenzlauer Berg</td>\n",
       "      <td>1.0</td>\n",
       "      <td>Apartment</td>\n",
       "      <td>strict_14_with_grace_period</td>\n",
       "      <td>1</td>\n",
       "      <td>0.0</td>\n",
       "      <td>1.0</td>\n",
       "      <td>23</td>\n",
       "      <td>The apartment is located on the upper second f...</td>\n",
       "      <td>7.0</td>\n",
       "      <td>super cheap</td>\n",
       "    </tr>\n",
       "    <tr>\n",
       "      <td>4</td>\n",
       "      <td>2009-12-03</td>\n",
       "      <td>10245</td>\n",
       "      <td>Private room</td>\n",
       "      <td>52</td>\n",
       "      <td>30</td>\n",
       "      <td>$13.00</td>\n",
       "      <td>2</td>\n",
       "      <td>Friedrichshain</td>\n",
       "      <td>2.0</td>\n",
       "      <td>Apartment</td>\n",
       "      <td>strict_14_with_grace_period</td>\n",
       "      <td>1</td>\n",
       "      <td>1.0</td>\n",
       "      <td>1.0</td>\n",
       "      <td>0</td>\n",
       "      <td>Hello future guests! We want to rent our cute ...</td>\n",
       "      <td>12.0</td>\n",
       "      <td>cheap</td>\n",
       "    </tr>\n",
       "  </tbody>\n",
       "</table>\n",
       "</div>"
      ],
      "text/plain": [
       "   host_since zipcode        room_type  maximum_nights  minimum_nights  \\\n",
       "0  2008-08-18   10119  Entire home/apt            1125               4   \n",
       "1  2008-10-19   10405  Entire home/apt            1125              62   \n",
       "2  2009-08-25   10405  Entire home/apt              14               6   \n",
       "3  2009-11-18   10437  Entire home/apt            1125              90   \n",
       "4  2009-12-03   10245     Private room              52              30   \n",
       "\n",
       "  extra_people  accommodates    neighbourhood  beds property_type  \\\n",
       "0       $28.00             3            Mitte   2.0    Guesthouse   \n",
       "1       $20.00             4  Prenzlauer Berg   2.0     Apartment   \n",
       "2       $10.00             7  Prenzlauer Berg   7.0     Apartment   \n",
       "3        $0.00             2  Prenzlauer Berg   1.0     Apartment   \n",
       "4       $13.00             2   Friedrichshain   2.0     Apartment   \n",
       "\n",
       "           cancellation_policy  guests_included  bedrooms  bathrooms  \\\n",
       "0  strict_14_with_grace_period                1       1.0        1.0   \n",
       "1  strict_14_with_grace_period                2       1.0        1.0   \n",
       "2  strict_14_with_grace_period                5       4.0        2.5   \n",
       "3  strict_14_with_grace_period                1       0.0        1.0   \n",
       "4  strict_14_with_grace_period                1       1.0        1.0   \n",
       "\n",
       "   number_of_reviews                                        description  \\\n",
       "0                118  Great location!  30 of 75 sq meters. This wood...   \n",
       "1                143  This beautiful first floor apartment  is situa...   \n",
       "2                  6  4 bedroom with very large windows and outstand...   \n",
       "3                 23  The apartment is located on the upper second f...   \n",
       "4                  0  Hello future guests! We want to rent our cute ...   \n",
       "\n",
       "   price price_category  \n",
       "0    6.0    super cheap  \n",
       "1    9.0    super cheap  \n",
       "2   18.0          cheap  \n",
       "3    7.0    super cheap  \n",
       "4   12.0          cheap  "
      ]
     },
     "execution_count": 6,
     "metadata": {},
     "output_type": "execute_result"
    }
   ],
   "source": [
    "df = pd.read_csv('./final3_airbnb.csv')\n",
    "\n",
    "df.head()"
   ]
  },
  {
   "cell_type": "code",
   "execution_count": 7,
   "metadata": {},
   "outputs": [],
   "source": [
    "sid = SentimentIntensityAnalyzer()"
   ]
  },
  {
   "cell_type": "code",
   "execution_count": 8,
   "metadata": {},
   "outputs": [
    {
     "data": {
      "text/plain": [
       "'Great location!  30 of 75 sq meters. This wood floored/high ceiling typical Berlin \"Altbau\" section of an apartment consists of 1 simple large room, a small kitchen and a bathroom + shower. The apartment is in Mitte, close to Prenzlauer Berg/Mauerpark. Perfect for short visits, singles or couples. Your section is closed from the rest of the bigger flat wich is not noticeable. You will not be sharing your space. A+++ location! This „Einliegerwohnung“ is an extention of a larger apartment with a separate entrance, bathroom and kitchen. The door to the rest of the apartment is soundproof, hidden, locked and barely noticable (behind mirror in pictures). Your 30 sq meters are facing a quiet courtyard. This wood floored/high ceiling typical Berlin \"Altbau\" apartment consists of 1 large room with a large double bed, optionally with an extra matress for a 3rd guest), a small kitchen suitable for preparing simple meals, a bathroom + shower + bathtub and of course your own entrance (all linens a'"
      ]
     },
     "execution_count": 8,
     "metadata": {},
     "output_type": "execute_result"
    }
   ],
   "source": [
    "text = df['description'][0]\n",
    "text"
   ]
  },
  {
   "cell_type": "code",
   "execution_count": 9,
   "metadata": {},
   "outputs": [
    {
     "data": {
      "text/plain": [
       "{'neg': 0.015, 'neu': 0.932, 'pos': 0.053, 'compound': 0.7936}"
      ]
     },
     "execution_count": 9,
     "metadata": {},
     "output_type": "execute_result"
    }
   ],
   "source": [
    "scores = sid.polarity_scores(text)\n",
    "scores"
   ]
  },
  {
   "cell_type": "code",
   "execution_count": 10,
   "metadata": {},
   "outputs": [
    {
     "data": {
      "text/plain": [
       "0.7936"
      ]
     },
     "execution_count": 10,
     "metadata": {},
     "output_type": "execute_result"
    }
   ],
   "source": [
    "scores.get('compound')"
   ]
  },
  {
   "cell_type": "code",
   "execution_count": 11,
   "metadata": {},
   "outputs": [
    {
     "data": {
      "text/plain": [
       "9620"
      ]
     },
     "execution_count": 11,
     "metadata": {},
     "output_type": "execute_result"
    }
   ],
   "source": [
    "df['description'].shape[0]"
   ]
  },
  {
   "cell_type": "markdown",
   "metadata": {},
   "source": [
    "## Now let's try it on lots of real data"
   ]
  },
  {
   "cell_type": "code",
   "execution_count": 12,
   "metadata": {},
   "outputs": [],
   "source": [
    "def text_iterate(dataframe, column):\n",
    "    sid = SentimentIntensityAnalyzer()\n",
    "    number = dataframe[column].shape[0]\n",
    "    ratings = []\n",
    "    x = 0\n",
    "    while x < number:\n",
    "        text = dataframe[column][x]\n",
    "        scores = sid.polarity_scores(text)\n",
    "        rating = scores.get('compound')\n",
    "        ratings.append(rating)\n",
    "        x = x + 1\n",
    "    df['sentiment_ratings'] = ratings\n",
    "        \n",
    "text_iterate(df, 'description')"
   ]
  },
  {
   "cell_type": "code",
   "execution_count": 13,
   "metadata": {},
   "outputs": [
    {
     "data": {
      "text/html": [
       "<div>\n",
       "<style scoped>\n",
       "    .dataframe tbody tr th:only-of-type {\n",
       "        vertical-align: middle;\n",
       "    }\n",
       "\n",
       "    .dataframe tbody tr th {\n",
       "        vertical-align: top;\n",
       "    }\n",
       "\n",
       "    .dataframe thead th {\n",
       "        text-align: right;\n",
       "    }\n",
       "</style>\n",
       "<table border=\"1\" class=\"dataframe\">\n",
       "  <thead>\n",
       "    <tr style=\"text-align: right;\">\n",
       "      <th></th>\n",
       "      <th>host_since</th>\n",
       "      <th>zipcode</th>\n",
       "      <th>room_type</th>\n",
       "      <th>maximum_nights</th>\n",
       "      <th>minimum_nights</th>\n",
       "      <th>extra_people</th>\n",
       "      <th>accommodates</th>\n",
       "      <th>neighbourhood</th>\n",
       "      <th>beds</th>\n",
       "      <th>property_type</th>\n",
       "      <th>cancellation_policy</th>\n",
       "      <th>guests_included</th>\n",
       "      <th>bedrooms</th>\n",
       "      <th>bathrooms</th>\n",
       "      <th>number_of_reviews</th>\n",
       "      <th>description</th>\n",
       "      <th>price</th>\n",
       "      <th>price_category</th>\n",
       "      <th>sentiment_ratings</th>\n",
       "    </tr>\n",
       "  </thead>\n",
       "  <tbody>\n",
       "    <tr>\n",
       "      <td>0</td>\n",
       "      <td>2008-08-18</td>\n",
       "      <td>10119</td>\n",
       "      <td>Entire home/apt</td>\n",
       "      <td>1125</td>\n",
       "      <td>4</td>\n",
       "      <td>$28.00</td>\n",
       "      <td>3</td>\n",
       "      <td>Mitte</td>\n",
       "      <td>2.0</td>\n",
       "      <td>Guesthouse</td>\n",
       "      <td>strict_14_with_grace_period</td>\n",
       "      <td>1</td>\n",
       "      <td>1.0</td>\n",
       "      <td>1.0</td>\n",
       "      <td>118</td>\n",
       "      <td>Great location!  30 of 75 sq meters. This wood...</td>\n",
       "      <td>6.0</td>\n",
       "      <td>super cheap</td>\n",
       "      <td>0.7936</td>\n",
       "    </tr>\n",
       "    <tr>\n",
       "      <td>1</td>\n",
       "      <td>2008-10-19</td>\n",
       "      <td>10405</td>\n",
       "      <td>Entire home/apt</td>\n",
       "      <td>1125</td>\n",
       "      <td>62</td>\n",
       "      <td>$20.00</td>\n",
       "      <td>4</td>\n",
       "      <td>Prenzlauer Berg</td>\n",
       "      <td>2.0</td>\n",
       "      <td>Apartment</td>\n",
       "      <td>strict_14_with_grace_period</td>\n",
       "      <td>2</td>\n",
       "      <td>1.0</td>\n",
       "      <td>1.0</td>\n",
       "      <td>143</td>\n",
       "      <td>This beautiful first floor apartment  is situa...</td>\n",
       "      <td>9.0</td>\n",
       "      <td>super cheap</td>\n",
       "      <td>0.9911</td>\n",
       "    </tr>\n",
       "    <tr>\n",
       "      <td>2</td>\n",
       "      <td>2009-08-25</td>\n",
       "      <td>10405</td>\n",
       "      <td>Entire home/apt</td>\n",
       "      <td>14</td>\n",
       "      <td>6</td>\n",
       "      <td>$10.00</td>\n",
       "      <td>7</td>\n",
       "      <td>Prenzlauer Berg</td>\n",
       "      <td>7.0</td>\n",
       "      <td>Apartment</td>\n",
       "      <td>strict_14_with_grace_period</td>\n",
       "      <td>5</td>\n",
       "      <td>4.0</td>\n",
       "      <td>2.5</td>\n",
       "      <td>6</td>\n",
       "      <td>4 bedroom with very large windows and outstand...</td>\n",
       "      <td>18.0</td>\n",
       "      <td>cheap</td>\n",
       "      <td>0.9690</td>\n",
       "    </tr>\n",
       "    <tr>\n",
       "      <td>3</td>\n",
       "      <td>2009-11-18</td>\n",
       "      <td>10437</td>\n",
       "      <td>Entire home/apt</td>\n",
       "      <td>1125</td>\n",
       "      <td>90</td>\n",
       "      <td>$0.00</td>\n",
       "      <td>2</td>\n",
       "      <td>Prenzlauer Berg</td>\n",
       "      <td>1.0</td>\n",
       "      <td>Apartment</td>\n",
       "      <td>strict_14_with_grace_period</td>\n",
       "      <td>1</td>\n",
       "      <td>0.0</td>\n",
       "      <td>1.0</td>\n",
       "      <td>23</td>\n",
       "      <td>The apartment is located on the upper second f...</td>\n",
       "      <td>7.0</td>\n",
       "      <td>super cheap</td>\n",
       "      <td>0.9217</td>\n",
       "    </tr>\n",
       "    <tr>\n",
       "      <td>4</td>\n",
       "      <td>2009-12-03</td>\n",
       "      <td>10245</td>\n",
       "      <td>Private room</td>\n",
       "      <td>52</td>\n",
       "      <td>30</td>\n",
       "      <td>$13.00</td>\n",
       "      <td>2</td>\n",
       "      <td>Friedrichshain</td>\n",
       "      <td>2.0</td>\n",
       "      <td>Apartment</td>\n",
       "      <td>strict_14_with_grace_period</td>\n",
       "      <td>1</td>\n",
       "      <td>1.0</td>\n",
       "      <td>1.0</td>\n",
       "      <td>0</td>\n",
       "      <td>Hello future guests! We want to rent our cute ...</td>\n",
       "      <td>12.0</td>\n",
       "      <td>cheap</td>\n",
       "      <td>0.9938</td>\n",
       "    </tr>\n",
       "  </tbody>\n",
       "</table>\n",
       "</div>"
      ],
      "text/plain": [
       "   host_since zipcode        room_type  maximum_nights  minimum_nights  \\\n",
       "0  2008-08-18   10119  Entire home/apt            1125               4   \n",
       "1  2008-10-19   10405  Entire home/apt            1125              62   \n",
       "2  2009-08-25   10405  Entire home/apt              14               6   \n",
       "3  2009-11-18   10437  Entire home/apt            1125              90   \n",
       "4  2009-12-03   10245     Private room              52              30   \n",
       "\n",
       "  extra_people  accommodates    neighbourhood  beds property_type  \\\n",
       "0       $28.00             3            Mitte   2.0    Guesthouse   \n",
       "1       $20.00             4  Prenzlauer Berg   2.0     Apartment   \n",
       "2       $10.00             7  Prenzlauer Berg   7.0     Apartment   \n",
       "3        $0.00             2  Prenzlauer Berg   1.0     Apartment   \n",
       "4       $13.00             2   Friedrichshain   2.0     Apartment   \n",
       "\n",
       "           cancellation_policy  guests_included  bedrooms  bathrooms  \\\n",
       "0  strict_14_with_grace_period                1       1.0        1.0   \n",
       "1  strict_14_with_grace_period                2       1.0        1.0   \n",
       "2  strict_14_with_grace_period                5       4.0        2.5   \n",
       "3  strict_14_with_grace_period                1       0.0        1.0   \n",
       "4  strict_14_with_grace_period                1       1.0        1.0   \n",
       "\n",
       "   number_of_reviews                                        description  \\\n",
       "0                118  Great location!  30 of 75 sq meters. This wood...   \n",
       "1                143  This beautiful first floor apartment  is situa...   \n",
       "2                  6  4 bedroom with very large windows and outstand...   \n",
       "3                 23  The apartment is located on the upper second f...   \n",
       "4                  0  Hello future guests! We want to rent our cute ...   \n",
       "\n",
       "   price price_category  sentiment_ratings  \n",
       "0    6.0    super cheap             0.7936  \n",
       "1    9.0    super cheap             0.9911  \n",
       "2   18.0          cheap             0.9690  \n",
       "3    7.0    super cheap             0.9217  \n",
       "4   12.0          cheap             0.9938  "
      ]
     },
     "execution_count": 13,
     "metadata": {},
     "output_type": "execute_result"
    }
   ],
   "source": [
    "df.head()"
   ]
  },
  {
   "cell_type": "markdown",
   "metadata": {},
   "source": [
    "## Most Important Features (target = price)"
   ]
  },
  {
   "cell_type": "code",
   "execution_count": 14,
   "metadata": {},
   "outputs": [],
   "source": [
    "import category_encoders as ce\n",
    "import pandas as pd\n",
    "import numpy as np\n",
    "from sklearn.ensemble import RandomForestRegressor\n",
    "from sklearn.metrics import mean_squared_error, mean_squared_log_error\n",
    "from sklearn.model_selection import train_test_split\n",
    "from sklearn.pipeline import make_pipeline\n",
    "\n",
    "def rmse(y_true, y_pred):\n",
    "    return np.sqrt(mean_squared_error(y_true, y_pred))\n",
    "\n",
    "def rmsle(y_true, y_pred):\n",
    "    return np.sqrt(mean_squared_log_error(y_true, y_pred))\n",
    "\n",
    "def wrangle(X):\n",
    "    X = X.copy()\n",
    "    \n",
    "    X = df.drop(['price_category'], axis = 1)\n",
    "\n",
    "    return X\n",
    "\n",
    "# Read data\n",
    "trainval = df\n",
    "\n",
    "# Split into train & validation sets\n",
    "# All rows for a given tube_assembly_id should go in either train or validation\n",
    "train_rentals, val_rentals = train_test_split(trainval, random_state=42)\n",
    "\n",
    "# Wrangle train, validation, and test sets\n",
    "train = wrangle(train_rentals)\n",
    "val = wrangle(val_rentals)\n",
    "\n",
    "# Arrange X matrix and y vector (log-transformed)\n",
    "target = 'price'\n",
    "X_train = train.drop(columns=target)\n",
    "X_val = val.drop(columns=target)\n",
    "y_train = train[target]\n",
    "y_val = val[target]\n",
    "y_train_log = np.log1p(y_train)\n",
    "y_val_log = np.log1p(y_val)"
   ]
  },
  {
   "cell_type": "code",
   "execution_count": 16,
   "metadata": {},
   "outputs": [
    {
     "name": "stdout",
     "output_type": "stream",
     "text": [
      "Validation Error 0.40894135326563497\n"
     ]
    }
   ],
   "source": [
    "# Make pipeline\n",
    "pipeline = make_pipeline(\n",
    "    ce.OrdinalEncoder(), \n",
    "    RandomForestRegressor(n_estimators=100, random_state=42, n_jobs=-1)\n",
    ")\n",
    "\n",
    "# Fit\n",
    "pipeline.fit(X_train, y_train_log)\n",
    "\n",
    "# Validate\n",
    "y_pred_log = pipeline.predict(X_val)\n",
    "print('Validation Error', rmse(y_val_log, y_pred_log))"
   ]
  },
  {
   "cell_type": "code",
   "execution_count": 17,
   "metadata": {},
   "outputs": [
    {
     "data": {
      "image/png": "[encoded data removed]",
      "text/plain": [
       "<Figure size 720x720 with 1 Axes>"
      ]
     },
     "metadata": {
      "needs_background": "light"
     },
     "output_type": "display_data"
    }
   ],
   "source": [
    "%matplotlib inline\n",
    "import matplotlib.pyplot as plt\n",
    "plt.figure(figsize=(10,10))\n",
    "rf = pipeline.named_steps['randomforestregressor']\n",
    "importances = pd.Series(rf.feature_importances_, X_train.columns)\n",
    "importances.sort_values().plot.barh(color='grey');"
   ]
  },
  {
   "cell_type": "markdown",
   "metadata": {},
   "source": [
    "## Most Important Features (target = number of reviews)"
   ]
  },
  {
   "cell_type": "code",
   "execution_count": 18,
   "metadata": {},
   "outputs": [],
   "source": [
    "import category_encoders as ce\n",
    "import pandas as pd\n",
    "import numpy as np\n",
    "from sklearn.ensemble import RandomForestRegressor\n",
    "from sklearn.metrics import mean_squared_error, mean_squared_log_error\n",
    "from sklearn.model_selection import train_test_split\n",
    "from sklearn.pipeline import make_pipeline\n",
    "\n",
    "def rmse(y_true, y_pred):\n",
    "    return np.sqrt(mean_squared_error(y_true, y_pred))\n",
    "\n",
    "def rmsle(y_true, y_pred):\n",
    "    return np.sqrt(mean_squared_log_error(y_true, y_pred))\n",
    "\n",
    "def wrangle(X):\n",
    "    X = X.copy()\n",
    "\n",
    "    return X\n",
    "\n",
    "# Read data\n",
    "trainval = df\n",
    "\n",
    "# Split into train & validation sets\n",
    "# All rows for a given tube_assembly_id should go in either train or validation\n",
    "train_rentals, val_rentals = train_test_split(trainval, random_state=42)\n",
    "\n",
    "# Wrangle train, validation, and test sets\n",
    "train = wrangle(train_rentals)\n",
    "val = wrangle(val_rentals)\n",
    "\n",
    "# Arrange X matrix and y vector (log-transformed)\n",
    "target = 'number_of_reviews'\n",
    "X_train = train.drop(columns=target)\n",
    "X_val = val.drop(columns=target)\n",
    "y_train = train[target]\n",
    "y_val = val[target]\n",
    "y_train_log = np.log1p(y_train)\n",
    "y_val_log = np.log1p(y_val)"
   ]
  },
  {
   "cell_type": "code",
   "execution_count": 19,
   "metadata": {},
   "outputs": [
    {
     "name": "stdout",
     "output_type": "stream",
     "text": [
      "Validation Error 1.2586859011372618\n"
     ]
    }
   ],
   "source": [
    "# Make pipeline\n",
    "pipeline = make_pipeline(\n",
    "    ce.OrdinalEncoder(), \n",
    "    RandomForestRegressor(n_estimators=100, random_state=42, n_jobs=-1)\n",
    ")\n",
    "\n",
    "# Fit\n",
    "pipeline.fit(X_train, y_train_log)\n",
    "\n",
    "# Validate\n",
    "y_pred_log = pipeline.predict(X_val)\n",
    "print('Validation Error', rmse(y_val_log, y_pred_log))"
   ]
  },
  {
   "cell_type": "code",
   "execution_count": 20,
   "metadata": {
    "scrolled": true
   },
   "outputs": [
    {
     "data": {
      "image/png": "[encoded data removed]",
      "text/plain": [
       "<Figure size 720x720 with 1 Axes>"
      ]
     },
     "metadata": {
      "needs_background": "light"
     },
     "output_type": "display_data"
    }
   ],
   "source": [
    "%matplotlib inline\n",
    "import matplotlib.pyplot as plt\n",
    "plt.figure(figsize=(10,10))\n",
    "rf = pipeline.named_steps['randomforestregressor']\n",
    "importances = pd.Series(rf.feature_importances_, X_train.columns)\n",
    "importances.sort_values().plot.barh(color='grey');"
   ]
  },
  {
   "cell_type": "markdown",
   "metadata": {},
   "source": [
    "## Can we predict price based on sentiment?"
   ]
  },
  {
   "cell_type": "code",
   "execution_count": 43,
   "metadata": {},
   "outputs": [
    {
     "data": {
      "text/plain": [
       "0.03359619904455634"
      ]
     },
     "execution_count": 43,
     "metadata": {},
     "output_type": "execute_result"
    }
   ],
   "source": [
    "df['price'].corr(df['sentiment_ratings'])"
   ]
  },
  {
   "cell_type": "markdown",
   "metadata": {},
   "source": [
    "That's not a very high correlation at all... Let's try something else"
   ]
  },
  {
   "cell_type": "markdown",
   "metadata": {},
   "source": [
    "## Can we predict the number of reviews we'll get based on sentiment?"
   ]
  },
  {
   "cell_type": "code",
   "execution_count": 44,
   "metadata": {},
   "outputs": [
    {
     "data": {
      "text/plain": [
       "0.05507442468081073"
      ]
     },
     "execution_count": 44,
     "metadata": {},
     "output_type": "execute_result"
    }
   ],
   "source": [
    "df['number_of_reviews'].corr(df['sentiment_ratings'])"
   ]
  },
  {
   "cell_type": "markdown",
   "metadata": {},
   "source": [
    "Hmm... Still not very high. Let's try something, just to be sure"
   ]
  },
  {
   "cell_type": "code",
   "execution_count": 45,
   "metadata": {},
   "outputs": [
    {
     "data": {
      "text/plain": [
       "0.055074424680810724"
      ]
     },
     "execution_count": 45,
     "metadata": {},
     "output_type": "execute_result"
    }
   ],
   "source": [
    "df['sentiment_ratings'].corr(df['number_of_reviews'])"
   ]
  },
  {
   "cell_type": "markdown",
   "metadata": {},
   "source": [
    "Exactly the same. As suspected, but still good to know"
   ]
  },
  {
   "cell_type": "markdown",
   "metadata": {},
   "source": [
    "## What about a tool that uses sentiment analysis to report to a user how positive their description is?"
   ]
  },
  {
   "cell_type": "code",
   "execution_count": null,
   "metadata": {},
   "outputs": [],
   "source": [
    "'''\n",
    "To do this, I would need to put my prediction function into a Flask app\n",
    "It's actually pretty damn similar to the TwitOff app, now that I think about it, so it shouldn't be that hard,\n",
    "as long as the team is on board.\n",
    "Also a good way for me to confirm to myself that I do have the Unit 3 abilities I was supposed to be tested on,\n",
    "but wasn't.\n",
    "'''"
   ]
  }
 ],
 "metadata": {
  "kernelspec": {
   "display_name": "DSML",
   "language": "python",
   "name": "dsml"
  },
  "language_info": {
   "codemirror_mode": {
    "name": "ipython",
    "version": 3
   },
   "file_extension": ".py",
   "mimetype": "text/x-python",
   "name": "python",
   "nbconvert_exporter": "python",
   "pygments_lexer": "ipython3",
   "version": "3.7.4"
  }
 },
 "nbformat": 4,
 "nbformat_minor": 2
}
